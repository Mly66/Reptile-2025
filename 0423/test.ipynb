{
 "cells": [
  {
   "cell_type": "code",
   "execution_count": 2,
   "id": "initial_id",
   "metadata": {
    "ExecuteTime": {
     "end_time": "2025-04-23T01:33:47.685588Z",
     "start_time": "2025-04-23T01:33:47.343793Z"
    },
    "collapsed": true
   },
   "outputs": [
    {
     "name": "stdout",
     "output_type": "stream",
     "text": [
      "<html><head><title>This is a python demo page</title></head>\n",
      "<body>\n",
      "<p class=\"title\"><b>The demo python introduces several python courses.</b></p>\n",
      "<p class=\"course\">Python is a wonderful general-purpose programming language. You can learn Python from novice to professional by tracking the following courses:\n",
      "<a class=\"py1\" href=\"http://www.icourse163.org/course/BIT-268001\" id=\"link1\">Basic Python</a> and <a class=\"py2\" href=\"http://www.icourse163.org/course/BIT-1001870001\" id=\"link2\">Advanced Python</a>.</p>\n",
      "</body></html>\n",
      "<class 'generator'>\n",
      "html <class 'bs4.element.Tag'>\n",
      "head <class 'bs4.element.Tag'>\n",
      "title <class 'bs4.element.Tag'>\n",
      "body <class 'bs4.element.Tag'>\n",
      "p <class 'bs4.element.Tag'>\n",
      "b <class 'bs4.element.Tag'>\n",
      "p <class 'bs4.element.Tag'>\n",
      "a <class 'bs4.element.Tag'>\n",
      "a <class 'bs4.element.Tag'>\n",
      "['html', 'head', 'title', 'body', 'p', 'b', 'p', 'a', 'a']\n",
      "['a', 'a', 'p', 'b', 'p', 'body', 'title', 'head', 'html']\n",
      "['html', 'head', 'title', 'body', 'p', 'b', 'p', 'a', 'a']\n",
      "['a', 'a', 'p', 'b', 'p', 'body', 'title', 'head', 'html']\n",
      "['a', 'a', 'p', 'b', 'p', 'body', 'title', 'head', 'html']\n",
      "['a']\n",
      "['a', 'a']\n",
      "['p', 'a', 'a']\n",
      "['b', 'p', 'a', 'a']\n",
      "['p', 'b', 'p', 'a', 'a']\n",
      "['body', 'p', 'b', 'p', 'a', 'a']\n",
      "['title', 'body', 'p', 'b', 'p', 'a', 'a']\n",
      "['head', 'title', 'body', 'p', 'b', 'p', 'a', 'a']\n",
      "['html', 'head', 'title', 'body', 'p', 'b', 'p', 'a', 'a']\n"
     ]
    }
   ],
   "source": [
    "from bs4 import BeautifulSoup\n",
    "import requests\n",
    "\n",
    "\n",
    "def get_soup(url):\n",
    "    response = requests.get(url)\n",
    "    return BeautifulSoup(response.text, 'html.parser')\n",
    "\n",
    "\n",
    "def main():\n",
    "    url = 'https://python123.io/ws/demo.html'\n",
    "    soup = get_soup(url)\n",
    "    # print(soup.prettify())\n",
    "    # print(soup.title)\n",
    "    # print(soup.title.string)\n",
    "    # print(soup.title.parent.name)\n",
    "    # print(soup.p.attrs)\n",
    "    # print(soup.p.attrs['class'])\n",
    "    # print(soup.p.attrs['class'][-1])\n",
    "    # print(soup.contents)\n",
    "    # print(type(soup.contents))\n",
    "    for content in soup.children:\n",
    "        print(content)\n",
    "    print(type(soup.children))\n",
    "    list = []\n",
    "    list2 = []\n",
    "    for child in soup.descendants:\n",
    "        if child.name is not None:\n",
    "            print(child.name, end=' ')\n",
    "            list.append(child.name)\n",
    "            list2.insert(0, child.name)\n",
    "            print(type(child))\n",
    "\n",
    "    print(list)\n",
    "    print(list2)\n",
    "    list2.reverse()\n",
    "    print(list2)\n",
    "    print(list2[::-1])\n",
    "    ls3 = list2.copy()\n",
    "    for i in range(len(list2)):\n",
    "        list2[i] = ls3[len(list2) - i - 1]\n",
    "    print(list2)\n",
    "    ls4=[]\n",
    "    for i in range(len(list2)):\n",
    "        ls4.insert(0, list2[i])\n",
    "        print(ls4)\n",
    "\n",
    "\n",
    "if __name__ == '__main__':\n",
    "    main()\n"
   ]
  },
  {
   "cell_type": "code",
   "execution_count": null,
   "id": "73bd16586cd8ceda",
   "metadata": {},
   "outputs": [],
   "source": []
  }
 ],
 "metadata": {
  "kernelspec": {
   "display_name": "base",
   "language": "python",
   "name": "python3"
  },
  "language_info": {
   "codemirror_mode": {
    "name": "ipython",
    "version": 3
   },
   "file_extension": ".py",
   "mimetype": "text/x-python",
   "name": "python",
   "nbconvert_exporter": "python",
   "pygments_lexer": "ipython3",
   "version": "3.12.3"
  }
 },
 "nbformat": 4,
 "nbformat_minor": 5
}
